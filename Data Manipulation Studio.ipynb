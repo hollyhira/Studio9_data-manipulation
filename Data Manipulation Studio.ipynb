{
 "cells": [
  {
   "cell_type": "markdown",
   "id": "1894ccac",
   "metadata": {},
   "source": [
    "# Data Manipulation Studio\n",
    "\n",
    "For this studio, we will revisit our California farmers looking for advice on growing pumpkins and the same [pumpkins dataset](https://www.kaggle.com/usda/a-year-of-pumpkin-prices) as provided by the U.S. Department of Agriculture. You may have to clean data in the process of data manipulation, so feel free to pull up your notebook from the last class's studio.\n",
    "\n",
    "We will now be focusing our attention on a different region in the United States, the Northeast. When you open up the `dataset` folder, you will have 13 CSVs, including the San Francisco and Los Angeles data from the last lesson. The 13 CSVs are each a different terminal market in the United States.\n",
    "\n",
    "## Getting Started\n",
    "\n",
    "Import the CSVs for each of the following cities: Baltimore, Boston, New York, and Philadelphia. Set up a dataframe for each city."
   ]
  },
  {
   "cell_type": "code",
   "execution_count": 1,
   "id": "d18af966",
   "metadata": {},
   "outputs": [],
   "source": [
    "# Import the necessary libraries\n",
    "import pandas as pd\n",
    "import matplotlib \n",
    "import matplotlib.pyplot as plt\n",
    "import numpy as np\n",
    "import pandas_profiling as pp"
   ]
  },
  {
   "cell_type": "code",
   "execution_count": 2,
   "id": "66c9a7e7",
   "metadata": {},
   "outputs": [],
   "source": [
    "# Import the necessary CSVs. Make some dataframes!\n",
    "\n",
    "balt=pd.read_csv(r\"C:\\Users\\holly\\Desktop\\DAExercises\\Studio9_data-manipulation\\dataset\\baltimore_9-24-2016_9-30-2017.csv\")\n",
    "bos=pd.read_csv(r\"C:\\Users\\holly\\Desktop\\DAExercises\\Studio9_data-manipulation\\dataset\\boston_9-24-2016_9-30-2017.csv\")\n",
    "nyc=pd.read_csv(r\"C:\\Users\\holly\\Desktop\\DAExercises\\Studio9_data-manipulation\\dataset\\new-york_9-24-2016_9-30-2017.csv\")\n",
    "phil=pd.read_csv(r\"C:\\Users\\holly\\Desktop\\DAExercises\\Studio9_data-manipulation\\dataset\\philadelphia_9-24-2016_9-30-2017.csv\")\n",
    "\n",
    "pd.set_option('display.max_columns', None)\n",
    "#Show all columns"
   ]
  },
  {
   "cell_type": "code",
   "execution_count": 3,
   "id": "667b719a",
   "metadata": {},
   "outputs": [],
   "source": [
    "from IPython.core.interactiveshell import InteractiveShell\n",
    "InteractiveShell.ast_node_interactivity = 'all'\n",
    "\n",
    "#Print multiple outputs from one cell"
   ]
  },
  {
   "cell_type": "code",
   "execution_count": 4,
   "id": "ca196b50",
   "metadata": {},
   "outputs": [
    {
     "name": "stdout",
     "output_type": "stream",
     "text": [
      "Baltimore\n"
     ]
    },
    {
     "data": {
      "text/html": [
       "<div>\n",
       "<style scoped>\n",
       "    .dataframe tbody tr th:only-of-type {\n",
       "        vertical-align: middle;\n",
       "    }\n",
       "\n",
       "    .dataframe tbody tr th {\n",
       "        vertical-align: top;\n",
       "    }\n",
       "\n",
       "    .dataframe thead th {\n",
       "        text-align: right;\n",
       "    }\n",
       "</style>\n",
       "<table border=\"1\" class=\"dataframe\">\n",
       "  <thead>\n",
       "    <tr style=\"text-align: right;\">\n",
       "      <th></th>\n",
       "      <th>Commodity Name</th>\n",
       "      <th>City Name</th>\n",
       "      <th>Type</th>\n",
       "      <th>Package</th>\n",
       "      <th>Variety</th>\n",
       "      <th>Sub Variety</th>\n",
       "      <th>Grade</th>\n",
       "      <th>Date</th>\n",
       "      <th>Low Price</th>\n",
       "      <th>High Price</th>\n",
       "      <th>Mostly Low</th>\n",
       "      <th>Mostly High</th>\n",
       "      <th>Origin</th>\n",
       "      <th>Origin District</th>\n",
       "      <th>Item Size</th>\n",
       "      <th>Color</th>\n",
       "      <th>Environment</th>\n",
       "      <th>Unit of Sale</th>\n",
       "      <th>Quality</th>\n",
       "      <th>Condition</th>\n",
       "      <th>Appearance</th>\n",
       "      <th>Storage</th>\n",
       "      <th>Crop</th>\n",
       "      <th>Repack</th>\n",
       "      <th>Trans Mode</th>\n",
       "    </tr>\n",
       "  </thead>\n",
       "  <tbody>\n",
       "    <tr>\n",
       "      <th>0</th>\n",
       "      <td>PUMPKINS</td>\n",
       "      <td>BALTIMORE</td>\n",
       "      <td>NaN</td>\n",
       "      <td>24 inch bins</td>\n",
       "      <td>NaN</td>\n",
       "      <td>NaN</td>\n",
       "      <td>NaN</td>\n",
       "      <td>04/29/2017</td>\n",
       "      <td>270</td>\n",
       "      <td>280.0</td>\n",
       "      <td>270</td>\n",
       "      <td>280.0</td>\n",
       "      <td>NaN</td>\n",
       "      <td>NaN</td>\n",
       "      <td>lge</td>\n",
       "      <td>NaN</td>\n",
       "      <td>NaN</td>\n",
       "      <td>NaN</td>\n",
       "      <td>NaN</td>\n",
       "      <td>NaN</td>\n",
       "      <td>NaN</td>\n",
       "      <td>NaN</td>\n",
       "      <td>NaN</td>\n",
       "      <td>E</td>\n",
       "      <td>NaN</td>\n",
       "    </tr>\n",
       "    <tr>\n",
       "      <th>1</th>\n",
       "      <td>PUMPKINS</td>\n",
       "      <td>BALTIMORE</td>\n",
       "      <td>NaN</td>\n",
       "      <td>24 inch bins</td>\n",
       "      <td>NaN</td>\n",
       "      <td>NaN</td>\n",
       "      <td>NaN</td>\n",
       "      <td>05/06/2017</td>\n",
       "      <td>270</td>\n",
       "      <td>280.0</td>\n",
       "      <td>270</td>\n",
       "      <td>280.0</td>\n",
       "      <td>NaN</td>\n",
       "      <td>NaN</td>\n",
       "      <td>lge</td>\n",
       "      <td>NaN</td>\n",
       "      <td>NaN</td>\n",
       "      <td>NaN</td>\n",
       "      <td>NaN</td>\n",
       "      <td>NaN</td>\n",
       "      <td>NaN</td>\n",
       "      <td>NaN</td>\n",
       "      <td>NaN</td>\n",
       "      <td>E</td>\n",
       "      <td>NaN</td>\n",
       "    </tr>\n",
       "    <tr>\n",
       "      <th>2</th>\n",
       "      <td>PUMPKINS</td>\n",
       "      <td>BALTIMORE</td>\n",
       "      <td>NaN</td>\n",
       "      <td>24 inch bins</td>\n",
       "      <td>HOWDEN TYPE</td>\n",
       "      <td>NaN</td>\n",
       "      <td>NaN</td>\n",
       "      <td>09/24/2016</td>\n",
       "      <td>160</td>\n",
       "      <td>160.0</td>\n",
       "      <td>160</td>\n",
       "      <td>160.0</td>\n",
       "      <td>DELAWARE</td>\n",
       "      <td>NaN</td>\n",
       "      <td>med</td>\n",
       "      <td>NaN</td>\n",
       "      <td>NaN</td>\n",
       "      <td>NaN</td>\n",
       "      <td>NaN</td>\n",
       "      <td>NaN</td>\n",
       "      <td>NaN</td>\n",
       "      <td>NaN</td>\n",
       "      <td>NaN</td>\n",
       "      <td>N</td>\n",
       "      <td>NaN</td>\n",
       "    </tr>\n",
       "    <tr>\n",
       "      <th>3</th>\n",
       "      <td>PUMPKINS</td>\n",
       "      <td>BALTIMORE</td>\n",
       "      <td>NaN</td>\n",
       "      <td>24 inch bins</td>\n",
       "      <td>HOWDEN TYPE</td>\n",
       "      <td>NaN</td>\n",
       "      <td>NaN</td>\n",
       "      <td>09/24/2016</td>\n",
       "      <td>160</td>\n",
       "      <td>160.0</td>\n",
       "      <td>160</td>\n",
       "      <td>160.0</td>\n",
       "      <td>VIRGINIA</td>\n",
       "      <td>NaN</td>\n",
       "      <td>med</td>\n",
       "      <td>NaN</td>\n",
       "      <td>NaN</td>\n",
       "      <td>NaN</td>\n",
       "      <td>NaN</td>\n",
       "      <td>NaN</td>\n",
       "      <td>NaN</td>\n",
       "      <td>NaN</td>\n",
       "      <td>NaN</td>\n",
       "      <td>N</td>\n",
       "      <td>NaN</td>\n",
       "    </tr>\n",
       "    <tr>\n",
       "      <th>4</th>\n",
       "      <td>PUMPKINS</td>\n",
       "      <td>BALTIMORE</td>\n",
       "      <td>NaN</td>\n",
       "      <td>24 inch bins</td>\n",
       "      <td>HOWDEN TYPE</td>\n",
       "      <td>NaN</td>\n",
       "      <td>NaN</td>\n",
       "      <td>11/05/2016</td>\n",
       "      <td>90</td>\n",
       "      <td>100.0</td>\n",
       "      <td>90</td>\n",
       "      <td>100.0</td>\n",
       "      <td>MARYLAND</td>\n",
       "      <td>NaN</td>\n",
       "      <td>lge</td>\n",
       "      <td>NaN</td>\n",
       "      <td>NaN</td>\n",
       "      <td>NaN</td>\n",
       "      <td>NaN</td>\n",
       "      <td>NaN</td>\n",
       "      <td>NaN</td>\n",
       "      <td>NaN</td>\n",
       "      <td>NaN</td>\n",
       "      <td>N</td>\n",
       "      <td>NaN</td>\n",
       "    </tr>\n",
       "  </tbody>\n",
       "</table>\n",
       "</div>"
      ],
      "text/plain": [
       "  Commodity Name  City Name  Type       Package      Variety Sub Variety  \\\n",
       "0       PUMPKINS  BALTIMORE   NaN  24 inch bins          NaN         NaN   \n",
       "1       PUMPKINS  BALTIMORE   NaN  24 inch bins          NaN         NaN   \n",
       "2       PUMPKINS  BALTIMORE   NaN  24 inch bins  HOWDEN TYPE         NaN   \n",
       "3       PUMPKINS  BALTIMORE   NaN  24 inch bins  HOWDEN TYPE         NaN   \n",
       "4       PUMPKINS  BALTIMORE   NaN  24 inch bins  HOWDEN TYPE         NaN   \n",
       "\n",
       "   Grade        Date  Low Price  High Price  Mostly Low  Mostly High  \\\n",
       "0    NaN  04/29/2017        270       280.0         270        280.0   \n",
       "1    NaN  05/06/2017        270       280.0         270        280.0   \n",
       "2    NaN  09/24/2016        160       160.0         160        160.0   \n",
       "3    NaN  09/24/2016        160       160.0         160        160.0   \n",
       "4    NaN  11/05/2016         90       100.0          90        100.0   \n",
       "\n",
       "     Origin  Origin District Item Size Color  Environment Unit of Sale  \\\n",
       "0       NaN              NaN       lge   NaN          NaN          NaN   \n",
       "1       NaN              NaN       lge   NaN          NaN          NaN   \n",
       "2  DELAWARE              NaN       med   NaN          NaN          NaN   \n",
       "3  VIRGINIA              NaN       med   NaN          NaN          NaN   \n",
       "4  MARYLAND              NaN       lge   NaN          NaN          NaN   \n",
       "\n",
       "   Quality  Condition  Appearance  Storage  Crop Repack  Trans Mode  \n",
       "0      NaN        NaN         NaN      NaN   NaN      E         NaN  \n",
       "1      NaN        NaN         NaN      NaN   NaN      E         NaN  \n",
       "2      NaN        NaN         NaN      NaN   NaN      N         NaN  \n",
       "3      NaN        NaN         NaN      NaN   NaN      N         NaN  \n",
       "4      NaN        NaN         NaN      NaN   NaN      N         NaN  "
      ]
     },
     "execution_count": 4,
     "metadata": {},
     "output_type": "execute_result"
    },
    {
     "data": {
      "text/plain": [
       "(153, 25)"
      ]
     },
     "execution_count": 4,
     "metadata": {},
     "output_type": "execute_result"
    },
    {
     "name": "stdout",
     "output_type": "stream",
     "text": [
      "\n",
      "Boston\n"
     ]
    },
    {
     "data": {
      "text/html": [
       "<div>\n",
       "<style scoped>\n",
       "    .dataframe tbody tr th:only-of-type {\n",
       "        vertical-align: middle;\n",
       "    }\n",
       "\n",
       "    .dataframe tbody tr th {\n",
       "        vertical-align: top;\n",
       "    }\n",
       "\n",
       "    .dataframe thead th {\n",
       "        text-align: right;\n",
       "    }\n",
       "</style>\n",
       "<table border=\"1\" class=\"dataframe\">\n",
       "  <thead>\n",
       "    <tr style=\"text-align: right;\">\n",
       "      <th></th>\n",
       "      <th>Commodity Name</th>\n",
       "      <th>City Name</th>\n",
       "      <th>Type</th>\n",
       "      <th>Package</th>\n",
       "      <th>Variety</th>\n",
       "      <th>Sub Variety</th>\n",
       "      <th>Grade</th>\n",
       "      <th>Date</th>\n",
       "      <th>Low Price</th>\n",
       "      <th>High Price</th>\n",
       "      <th>Mostly Low</th>\n",
       "      <th>Mostly High</th>\n",
       "      <th>Origin</th>\n",
       "      <th>Origin District</th>\n",
       "      <th>Item Size</th>\n",
       "      <th>Color</th>\n",
       "      <th>Environment</th>\n",
       "      <th>Unit of Sale</th>\n",
       "      <th>Quality</th>\n",
       "      <th>Condition</th>\n",
       "      <th>Appearance</th>\n",
       "      <th>Storage</th>\n",
       "      <th>Crop</th>\n",
       "      <th>Repack</th>\n",
       "      <th>Trans Mode</th>\n",
       "    </tr>\n",
       "  </thead>\n",
       "  <tbody>\n",
       "    <tr>\n",
       "      <th>0</th>\n",
       "      <td>PUMPKINS</td>\n",
       "      <td>BOSTON</td>\n",
       "      <td>NaN</td>\n",
       "      <td>36 inch bins</td>\n",
       "      <td>HOWDEN TYPE</td>\n",
       "      <td>NaN</td>\n",
       "      <td>NaN</td>\n",
       "      <td>09/24/2016</td>\n",
       "      <td>160</td>\n",
       "      <td>200</td>\n",
       "      <td>165</td>\n",
       "      <td>165</td>\n",
       "      <td>CANADA</td>\n",
       "      <td>QUEBEC</td>\n",
       "      <td>exjbo</td>\n",
       "      <td>ORANGE</td>\n",
       "      <td>NaN</td>\n",
       "      <td>NaN</td>\n",
       "      <td>NaN</td>\n",
       "      <td>NaN</td>\n",
       "      <td>NaN</td>\n",
       "      <td>NaN</td>\n",
       "      <td>NaN</td>\n",
       "      <td>N</td>\n",
       "      <td>NaN</td>\n",
       "    </tr>\n",
       "    <tr>\n",
       "      <th>1</th>\n",
       "      <td>PUMPKINS</td>\n",
       "      <td>BOSTON</td>\n",
       "      <td>NaN</td>\n",
       "      <td>36 inch bins</td>\n",
       "      <td>HOWDEN TYPE</td>\n",
       "      <td>NaN</td>\n",
       "      <td>NaN</td>\n",
       "      <td>09/24/2016</td>\n",
       "      <td>160</td>\n",
       "      <td>200</td>\n",
       "      <td>165</td>\n",
       "      <td>165</td>\n",
       "      <td>CANADA</td>\n",
       "      <td>QUEBEC</td>\n",
       "      <td>jbo</td>\n",
       "      <td>ORANGE</td>\n",
       "      <td>NaN</td>\n",
       "      <td>NaN</td>\n",
       "      <td>NaN</td>\n",
       "      <td>NaN</td>\n",
       "      <td>NaN</td>\n",
       "      <td>NaN</td>\n",
       "      <td>NaN</td>\n",
       "      <td>N</td>\n",
       "      <td>NaN</td>\n",
       "    </tr>\n",
       "    <tr>\n",
       "      <th>2</th>\n",
       "      <td>PUMPKINS</td>\n",
       "      <td>BOSTON</td>\n",
       "      <td>NaN</td>\n",
       "      <td>36 inch bins</td>\n",
       "      <td>HOWDEN TYPE</td>\n",
       "      <td>NaN</td>\n",
       "      <td>NaN</td>\n",
       "      <td>09/24/2016</td>\n",
       "      <td>160</td>\n",
       "      <td>200</td>\n",
       "      <td>165</td>\n",
       "      <td>165</td>\n",
       "      <td>CANADA</td>\n",
       "      <td>QUEBEC</td>\n",
       "      <td>xlge</td>\n",
       "      <td>ORANGE</td>\n",
       "      <td>NaN</td>\n",
       "      <td>NaN</td>\n",
       "      <td>NaN</td>\n",
       "      <td>NaN</td>\n",
       "      <td>NaN</td>\n",
       "      <td>NaN</td>\n",
       "      <td>NaN</td>\n",
       "      <td>N</td>\n",
       "      <td>NaN</td>\n",
       "    </tr>\n",
       "    <tr>\n",
       "      <th>3</th>\n",
       "      <td>PUMPKINS</td>\n",
       "      <td>BOSTON</td>\n",
       "      <td>NaN</td>\n",
       "      <td>36 inch bins</td>\n",
       "      <td>HOWDEN TYPE</td>\n",
       "      <td>NaN</td>\n",
       "      <td>NaN</td>\n",
       "      <td>09/24/2016</td>\n",
       "      <td>160</td>\n",
       "      <td>200</td>\n",
       "      <td>165</td>\n",
       "      <td>165</td>\n",
       "      <td>CANADA</td>\n",
       "      <td>ONTARIO</td>\n",
       "      <td>xlge</td>\n",
       "      <td>ORANGE</td>\n",
       "      <td>NaN</td>\n",
       "      <td>NaN</td>\n",
       "      <td>NaN</td>\n",
       "      <td>NaN</td>\n",
       "      <td>NaN</td>\n",
       "      <td>NaN</td>\n",
       "      <td>NaN</td>\n",
       "      <td>N</td>\n",
       "      <td>NaN</td>\n",
       "    </tr>\n",
       "    <tr>\n",
       "      <th>4</th>\n",
       "      <td>PUMPKINS</td>\n",
       "      <td>BOSTON</td>\n",
       "      <td>NaN</td>\n",
       "      <td>36 inch bins</td>\n",
       "      <td>HOWDEN TYPE</td>\n",
       "      <td>NaN</td>\n",
       "      <td>NaN</td>\n",
       "      <td>09/24/2016</td>\n",
       "      <td>160</td>\n",
       "      <td>180</td>\n",
       "      <td>165</td>\n",
       "      <td>165</td>\n",
       "      <td>CANADA</td>\n",
       "      <td>ONTARIO</td>\n",
       "      <td>lge</td>\n",
       "      <td>ORANGE</td>\n",
       "      <td>NaN</td>\n",
       "      <td>NaN</td>\n",
       "      <td>NaN</td>\n",
       "      <td>NaN</td>\n",
       "      <td>NaN</td>\n",
       "      <td>NaN</td>\n",
       "      <td>NaN</td>\n",
       "      <td>N</td>\n",
       "      <td>NaN</td>\n",
       "    </tr>\n",
       "  </tbody>\n",
       "</table>\n",
       "</div>"
      ],
      "text/plain": [
       "  Commodity Name City Name  Type       Package      Variety Sub Variety  \\\n",
       "0       PUMPKINS    BOSTON   NaN  36 inch bins  HOWDEN TYPE         NaN   \n",
       "1       PUMPKINS    BOSTON   NaN  36 inch bins  HOWDEN TYPE         NaN   \n",
       "2       PUMPKINS    BOSTON   NaN  36 inch bins  HOWDEN TYPE         NaN   \n",
       "3       PUMPKINS    BOSTON   NaN  36 inch bins  HOWDEN TYPE         NaN   \n",
       "4       PUMPKINS    BOSTON   NaN  36 inch bins  HOWDEN TYPE         NaN   \n",
       "\n",
       "   Grade        Date  Low Price  High Price  Mostly Low  Mostly High  Origin  \\\n",
       "0    NaN  09/24/2016        160         200         165          165  CANADA   \n",
       "1    NaN  09/24/2016        160         200         165          165  CANADA   \n",
       "2    NaN  09/24/2016        160         200         165          165  CANADA   \n",
       "3    NaN  09/24/2016        160         200         165          165  CANADA   \n",
       "4    NaN  09/24/2016        160         180         165          165  CANADA   \n",
       "\n",
       "  Origin District Item Size   Color  Environment Unit of Sale  Quality  \\\n",
       "0          QUEBEC     exjbo  ORANGE          NaN          NaN      NaN   \n",
       "1          QUEBEC       jbo  ORANGE          NaN          NaN      NaN   \n",
       "2          QUEBEC      xlge  ORANGE          NaN          NaN      NaN   \n",
       "3         ONTARIO      xlge  ORANGE          NaN          NaN      NaN   \n",
       "4         ONTARIO       lge  ORANGE          NaN          NaN      NaN   \n",
       "\n",
       "   Condition  Appearance  Storage  Crop Repack  Trans Mode  \n",
       "0        NaN         NaN      NaN   NaN      N         NaN  \n",
       "1        NaN         NaN      NaN   NaN      N         NaN  \n",
       "2        NaN         NaN      NaN   NaN      N         NaN  \n",
       "3        NaN         NaN      NaN   NaN      N         NaN  \n",
       "4        NaN         NaN      NaN   NaN      N         NaN  "
      ]
     },
     "execution_count": 4,
     "metadata": {},
     "output_type": "execute_result"
    },
    {
     "data": {
      "text/plain": [
       "(352, 25)"
      ]
     },
     "execution_count": 4,
     "metadata": {},
     "output_type": "execute_result"
    },
    {
     "name": "stdout",
     "output_type": "stream",
     "text": [
      "\n",
      "NYC\n"
     ]
    },
    {
     "data": {
      "text/html": [
       "<div>\n",
       "<style scoped>\n",
       "    .dataframe tbody tr th:only-of-type {\n",
       "        vertical-align: middle;\n",
       "    }\n",
       "\n",
       "    .dataframe tbody tr th {\n",
       "        vertical-align: top;\n",
       "    }\n",
       "\n",
       "    .dataframe thead th {\n",
       "        text-align: right;\n",
       "    }\n",
       "</style>\n",
       "<table border=\"1\" class=\"dataframe\">\n",
       "  <thead>\n",
       "    <tr style=\"text-align: right;\">\n",
       "      <th></th>\n",
       "      <th>Commodity Name</th>\n",
       "      <th>City Name</th>\n",
       "      <th>Type</th>\n",
       "      <th>Package</th>\n",
       "      <th>Variety</th>\n",
       "      <th>Sub Variety</th>\n",
       "      <th>Grade</th>\n",
       "      <th>Date</th>\n",
       "      <th>Low Price</th>\n",
       "      <th>High Price</th>\n",
       "      <th>Mostly Low</th>\n",
       "      <th>Mostly High</th>\n",
       "      <th>Origin</th>\n",
       "      <th>Origin District</th>\n",
       "      <th>Item Size</th>\n",
       "      <th>Color</th>\n",
       "      <th>Environment</th>\n",
       "      <th>Unit of Sale</th>\n",
       "      <th>Quality</th>\n",
       "      <th>Condition</th>\n",
       "      <th>Appearance</th>\n",
       "      <th>Storage</th>\n",
       "      <th>Crop</th>\n",
       "      <th>Repack</th>\n",
       "      <th>Trans Mode</th>\n",
       "    </tr>\n",
       "  </thead>\n",
       "  <tbody>\n",
       "    <tr>\n",
       "      <th>0</th>\n",
       "      <td>PUMPKINS</td>\n",
       "      <td>NEW YORK</td>\n",
       "      <td>NaN</td>\n",
       "      <td>36 inch bins</td>\n",
       "      <td>HOWDEN TYPE</td>\n",
       "      <td>NaN</td>\n",
       "      <td>NaN</td>\n",
       "      <td>09/24/2016</td>\n",
       "      <td>150</td>\n",
       "      <td>170</td>\n",
       "      <td>150</td>\n",
       "      <td>170</td>\n",
       "      <td>MICHIGAN</td>\n",
       "      <td>NaN</td>\n",
       "      <td>xlge</td>\n",
       "      <td>NaN</td>\n",
       "      <td>NaN</td>\n",
       "      <td>NaN</td>\n",
       "      <td>NaN</td>\n",
       "      <td>NaN</td>\n",
       "      <td>NaN</td>\n",
       "      <td>NaN</td>\n",
       "      <td>NaN</td>\n",
       "      <td>N</td>\n",
       "      <td>NaN</td>\n",
       "    </tr>\n",
       "    <tr>\n",
       "      <th>1</th>\n",
       "      <td>PUMPKINS</td>\n",
       "      <td>NEW YORK</td>\n",
       "      <td>NaN</td>\n",
       "      <td>36 inch bins</td>\n",
       "      <td>HOWDEN TYPE</td>\n",
       "      <td>NaN</td>\n",
       "      <td>NaN</td>\n",
       "      <td>09/24/2016</td>\n",
       "      <td>150</td>\n",
       "      <td>170</td>\n",
       "      <td>150</td>\n",
       "      <td>170</td>\n",
       "      <td>MICHIGAN</td>\n",
       "      <td>NaN</td>\n",
       "      <td>lge</td>\n",
       "      <td>NaN</td>\n",
       "      <td>NaN</td>\n",
       "      <td>NaN</td>\n",
       "      <td>NaN</td>\n",
       "      <td>NaN</td>\n",
       "      <td>NaN</td>\n",
       "      <td>NaN</td>\n",
       "      <td>NaN</td>\n",
       "      <td>N</td>\n",
       "      <td>NaN</td>\n",
       "    </tr>\n",
       "    <tr>\n",
       "      <th>2</th>\n",
       "      <td>PUMPKINS</td>\n",
       "      <td>NEW YORK</td>\n",
       "      <td>NaN</td>\n",
       "      <td>36 inch bins</td>\n",
       "      <td>HOWDEN TYPE</td>\n",
       "      <td>NaN</td>\n",
       "      <td>NaN</td>\n",
       "      <td>09/24/2016</td>\n",
       "      <td>130</td>\n",
       "      <td>150</td>\n",
       "      <td>130</td>\n",
       "      <td>150</td>\n",
       "      <td>NEW JERSEY</td>\n",
       "      <td>NaN</td>\n",
       "      <td>xlge</td>\n",
       "      <td>NaN</td>\n",
       "      <td>NaN</td>\n",
       "      <td>NaN</td>\n",
       "      <td>NaN</td>\n",
       "      <td>NaN</td>\n",
       "      <td>NaN</td>\n",
       "      <td>NaN</td>\n",
       "      <td>NaN</td>\n",
       "      <td>N</td>\n",
       "      <td>NaN</td>\n",
       "    </tr>\n",
       "    <tr>\n",
       "      <th>3</th>\n",
       "      <td>PUMPKINS</td>\n",
       "      <td>NEW YORK</td>\n",
       "      <td>NaN</td>\n",
       "      <td>36 inch bins</td>\n",
       "      <td>HOWDEN TYPE</td>\n",
       "      <td>NaN</td>\n",
       "      <td>NaN</td>\n",
       "      <td>09/24/2016</td>\n",
       "      <td>130</td>\n",
       "      <td>150</td>\n",
       "      <td>130</td>\n",
       "      <td>150</td>\n",
       "      <td>NEW JERSEY</td>\n",
       "      <td>NaN</td>\n",
       "      <td>lge</td>\n",
       "      <td>NaN</td>\n",
       "      <td>NaN</td>\n",
       "      <td>NaN</td>\n",
       "      <td>NaN</td>\n",
       "      <td>NaN</td>\n",
       "      <td>NaN</td>\n",
       "      <td>NaN</td>\n",
       "      <td>NaN</td>\n",
       "      <td>N</td>\n",
       "      <td>NaN</td>\n",
       "    </tr>\n",
       "    <tr>\n",
       "      <th>4</th>\n",
       "      <td>PUMPKINS</td>\n",
       "      <td>NEW YORK</td>\n",
       "      <td>NaN</td>\n",
       "      <td>36 inch bins</td>\n",
       "      <td>HOWDEN TYPE</td>\n",
       "      <td>NaN</td>\n",
       "      <td>NaN</td>\n",
       "      <td>09/24/2016</td>\n",
       "      <td>120</td>\n",
       "      <td>140</td>\n",
       "      <td>120</td>\n",
       "      <td>140</td>\n",
       "      <td>NEW YORK</td>\n",
       "      <td>NaN</td>\n",
       "      <td>med-lge</td>\n",
       "      <td>NaN</td>\n",
       "      <td>NaN</td>\n",
       "      <td>NaN</td>\n",
       "      <td>NaN</td>\n",
       "      <td>NaN</td>\n",
       "      <td>NaN</td>\n",
       "      <td>NaN</td>\n",
       "      <td>NaN</td>\n",
       "      <td>N</td>\n",
       "      <td>NaN</td>\n",
       "    </tr>\n",
       "  </tbody>\n",
       "</table>\n",
       "</div>"
      ],
      "text/plain": [
       "  Commodity Name City Name  Type       Package      Variety Sub Variety  \\\n",
       "0       PUMPKINS  NEW YORK   NaN  36 inch bins  HOWDEN TYPE         NaN   \n",
       "1       PUMPKINS  NEW YORK   NaN  36 inch bins  HOWDEN TYPE         NaN   \n",
       "2       PUMPKINS  NEW YORK   NaN  36 inch bins  HOWDEN TYPE         NaN   \n",
       "3       PUMPKINS  NEW YORK   NaN  36 inch bins  HOWDEN TYPE         NaN   \n",
       "4       PUMPKINS  NEW YORK   NaN  36 inch bins  HOWDEN TYPE         NaN   \n",
       "\n",
       "   Grade        Date  Low Price  High Price  Mostly Low  Mostly High  \\\n",
       "0    NaN  09/24/2016        150         170         150          170   \n",
       "1    NaN  09/24/2016        150         170         150          170   \n",
       "2    NaN  09/24/2016        130         150         130          150   \n",
       "3    NaN  09/24/2016        130         150         130          150   \n",
       "4    NaN  09/24/2016        120         140         120          140   \n",
       "\n",
       "       Origin Origin District Item Size Color  Environment Unit of Sale  \\\n",
       "0    MICHIGAN             NaN      xlge   NaN          NaN          NaN   \n",
       "1    MICHIGAN             NaN       lge   NaN          NaN          NaN   \n",
       "2  NEW JERSEY             NaN      xlge   NaN          NaN          NaN   \n",
       "3  NEW JERSEY             NaN       lge   NaN          NaN          NaN   \n",
       "4    NEW YORK             NaN   med-lge   NaN          NaN          NaN   \n",
       "\n",
       "   Quality  Condition  Appearance  Storage  Crop Repack  Trans Mode  \n",
       "0      NaN        NaN         NaN      NaN   NaN      N         NaN  \n",
       "1      NaN        NaN         NaN      NaN   NaN      N         NaN  \n",
       "2      NaN        NaN         NaN      NaN   NaN      N         NaN  \n",
       "3      NaN        NaN         NaN      NaN   NaN      N         NaN  \n",
       "4      NaN        NaN         NaN      NaN   NaN      N         NaN  "
      ]
     },
     "execution_count": 4,
     "metadata": {},
     "output_type": "execute_result"
    },
    {
     "data": {
      "text/plain": [
       "(112, 25)"
      ]
     },
     "execution_count": 4,
     "metadata": {},
     "output_type": "execute_result"
    },
    {
     "name": "stdout",
     "output_type": "stream",
     "text": [
      "\n",
      "Philly\n"
     ]
    },
    {
     "data": {
      "text/html": [
       "<div>\n",
       "<style scoped>\n",
       "    .dataframe tbody tr th:only-of-type {\n",
       "        vertical-align: middle;\n",
       "    }\n",
       "\n",
       "    .dataframe tbody tr th {\n",
       "        vertical-align: top;\n",
       "    }\n",
       "\n",
       "    .dataframe thead th {\n",
       "        text-align: right;\n",
       "    }\n",
       "</style>\n",
       "<table border=\"1\" class=\"dataframe\">\n",
       "  <thead>\n",
       "    <tr style=\"text-align: right;\">\n",
       "      <th></th>\n",
       "      <th>Commodity Name</th>\n",
       "      <th>City Name</th>\n",
       "      <th>Type</th>\n",
       "      <th>Package</th>\n",
       "      <th>Variety</th>\n",
       "      <th>Sub Variety</th>\n",
       "      <th>Grade</th>\n",
       "      <th>Date</th>\n",
       "      <th>Low Price</th>\n",
       "      <th>High Price</th>\n",
       "      <th>Mostly Low</th>\n",
       "      <th>Mostly High</th>\n",
       "      <th>Origin</th>\n",
       "      <th>Origin District</th>\n",
       "      <th>Item Size</th>\n",
       "      <th>Color</th>\n",
       "      <th>Environment</th>\n",
       "      <th>Unit of Sale</th>\n",
       "      <th>Quality</th>\n",
       "      <th>Condition</th>\n",
       "      <th>Appearance</th>\n",
       "      <th>Storage</th>\n",
       "      <th>Crop</th>\n",
       "      <th>Repack</th>\n",
       "      <th>Trans Mode</th>\n",
       "    </tr>\n",
       "  </thead>\n",
       "  <tbody>\n",
       "    <tr>\n",
       "      <th>0</th>\n",
       "      <td>PUMPKINS</td>\n",
       "      <td>PHILADELPHIA</td>\n",
       "      <td>NaN</td>\n",
       "      <td>24 inch bins</td>\n",
       "      <td>HOWDEN TYPE</td>\n",
       "      <td>NaN</td>\n",
       "      <td>NaN</td>\n",
       "      <td>09/16/2017</td>\n",
       "      <td>140</td>\n",
       "      <td>150</td>\n",
       "      <td>140</td>\n",
       "      <td>150</td>\n",
       "      <td>PENNSYLVANIA</td>\n",
       "      <td>NaN</td>\n",
       "      <td>lge</td>\n",
       "      <td>NaN</td>\n",
       "      <td>NaN</td>\n",
       "      <td>NaN</td>\n",
       "      <td>NaN</td>\n",
       "      <td>NaN</td>\n",
       "      <td>NaN</td>\n",
       "      <td>NaN</td>\n",
       "      <td>NaN</td>\n",
       "      <td>N</td>\n",
       "      <td>NaN</td>\n",
       "    </tr>\n",
       "    <tr>\n",
       "      <th>1</th>\n",
       "      <td>PUMPKINS</td>\n",
       "      <td>PHILADELPHIA</td>\n",
       "      <td>NaN</td>\n",
       "      <td>36 inch bins</td>\n",
       "      <td>HOWDEN TYPE</td>\n",
       "      <td>NaN</td>\n",
       "      <td>NaN</td>\n",
       "      <td>09/24/2016</td>\n",
       "      <td>150</td>\n",
       "      <td>150</td>\n",
       "      <td>150</td>\n",
       "      <td>150</td>\n",
       "      <td>NEW YORK</td>\n",
       "      <td>NaN</td>\n",
       "      <td>med-lge</td>\n",
       "      <td>NaN</td>\n",
       "      <td>NaN</td>\n",
       "      <td>NaN</td>\n",
       "      <td>NaN</td>\n",
       "      <td>NaN</td>\n",
       "      <td>NaN</td>\n",
       "      <td>NaN</td>\n",
       "      <td>NaN</td>\n",
       "      <td>N</td>\n",
       "      <td>NaN</td>\n",
       "    </tr>\n",
       "    <tr>\n",
       "      <th>2</th>\n",
       "      <td>PUMPKINS</td>\n",
       "      <td>PHILADELPHIA</td>\n",
       "      <td>NaN</td>\n",
       "      <td>36 inch bins</td>\n",
       "      <td>HOWDEN TYPE</td>\n",
       "      <td>NaN</td>\n",
       "      <td>NaN</td>\n",
       "      <td>09/24/2016</td>\n",
       "      <td>150</td>\n",
       "      <td>150</td>\n",
       "      <td>150</td>\n",
       "      <td>150</td>\n",
       "      <td>NEW YORK</td>\n",
       "      <td>NaN</td>\n",
       "      <td>med</td>\n",
       "      <td>NaN</td>\n",
       "      <td>NaN</td>\n",
       "      <td>NaN</td>\n",
       "      <td>NaN</td>\n",
       "      <td>NaN</td>\n",
       "      <td>NaN</td>\n",
       "      <td>NaN</td>\n",
       "      <td>NaN</td>\n",
       "      <td>N</td>\n",
       "      <td>NaN</td>\n",
       "    </tr>\n",
       "    <tr>\n",
       "      <th>3</th>\n",
       "      <td>PUMPKINS</td>\n",
       "      <td>PHILADELPHIA</td>\n",
       "      <td>NaN</td>\n",
       "      <td>36 inch bins</td>\n",
       "      <td>HOWDEN TYPE</td>\n",
       "      <td>NaN</td>\n",
       "      <td>NaN</td>\n",
       "      <td>09/24/2016</td>\n",
       "      <td>150</td>\n",
       "      <td>160</td>\n",
       "      <td>150</td>\n",
       "      <td>160</td>\n",
       "      <td>PENNSYLVANIA</td>\n",
       "      <td>NaN</td>\n",
       "      <td>lge</td>\n",
       "      <td>NaN</td>\n",
       "      <td>NaN</td>\n",
       "      <td>NaN</td>\n",
       "      <td>NaN</td>\n",
       "      <td>NaN</td>\n",
       "      <td>NaN</td>\n",
       "      <td>NaN</td>\n",
       "      <td>NaN</td>\n",
       "      <td>N</td>\n",
       "      <td>NaN</td>\n",
       "    </tr>\n",
       "    <tr>\n",
       "      <th>4</th>\n",
       "      <td>PUMPKINS</td>\n",
       "      <td>PHILADELPHIA</td>\n",
       "      <td>NaN</td>\n",
       "      <td>36 inch bins</td>\n",
       "      <td>HOWDEN TYPE</td>\n",
       "      <td>NaN</td>\n",
       "      <td>NaN</td>\n",
       "      <td>10/01/2016</td>\n",
       "      <td>140</td>\n",
       "      <td>140</td>\n",
       "      <td>140</td>\n",
       "      <td>140</td>\n",
       "      <td>NEW JERSEY</td>\n",
       "      <td>NaN</td>\n",
       "      <td>med-lge</td>\n",
       "      <td>NaN</td>\n",
       "      <td>NaN</td>\n",
       "      <td>NaN</td>\n",
       "      <td>NaN</td>\n",
       "      <td>NaN</td>\n",
       "      <td>NaN</td>\n",
       "      <td>NaN</td>\n",
       "      <td>NaN</td>\n",
       "      <td>N</td>\n",
       "      <td>NaN</td>\n",
       "    </tr>\n",
       "  </tbody>\n",
       "</table>\n",
       "</div>"
      ],
      "text/plain": [
       "  Commodity Name     City Name  Type       Package      Variety Sub Variety  \\\n",
       "0       PUMPKINS  PHILADELPHIA   NaN  24 inch bins  HOWDEN TYPE         NaN   \n",
       "1       PUMPKINS  PHILADELPHIA   NaN  36 inch bins  HOWDEN TYPE         NaN   \n",
       "2       PUMPKINS  PHILADELPHIA   NaN  36 inch bins  HOWDEN TYPE         NaN   \n",
       "3       PUMPKINS  PHILADELPHIA   NaN  36 inch bins  HOWDEN TYPE         NaN   \n",
       "4       PUMPKINS  PHILADELPHIA   NaN  36 inch bins  HOWDEN TYPE         NaN   \n",
       "\n",
       "   Grade        Date  Low Price  High Price  Mostly Low  Mostly High  \\\n",
       "0    NaN  09/16/2017        140         150         140          150   \n",
       "1    NaN  09/24/2016        150         150         150          150   \n",
       "2    NaN  09/24/2016        150         150         150          150   \n",
       "3    NaN  09/24/2016        150         160         150          160   \n",
       "4    NaN  10/01/2016        140         140         140          140   \n",
       "\n",
       "         Origin  Origin District Item Size  Color  Environment Unit of Sale  \\\n",
       "0  PENNSYLVANIA              NaN       lge    NaN          NaN          NaN   \n",
       "1      NEW YORK              NaN   med-lge    NaN          NaN          NaN   \n",
       "2      NEW YORK              NaN       med    NaN          NaN          NaN   \n",
       "3  PENNSYLVANIA              NaN       lge    NaN          NaN          NaN   \n",
       "4    NEW JERSEY              NaN   med-lge    NaN          NaN          NaN   \n",
       "\n",
       "   Quality  Condition  Appearance  Storage  Crop Repack  Trans Mode  \n",
       "0      NaN        NaN         NaN      NaN   NaN      N         NaN  \n",
       "1      NaN        NaN         NaN      NaN   NaN      N         NaN  \n",
       "2      NaN        NaN         NaN      NaN   NaN      N         NaN  \n",
       "3      NaN        NaN         NaN      NaN   NaN      N         NaN  \n",
       "4      NaN        NaN         NaN      NaN   NaN      N         NaN  "
      ]
     },
     "execution_count": 4,
     "metadata": {},
     "output_type": "execute_result"
    },
    {
     "data": {
      "text/plain": [
       "(57, 25)"
      ]
     },
     "execution_count": 4,
     "metadata": {},
     "output_type": "execute_result"
    }
   ],
   "source": [
    "print('Baltimore')\n",
    "balt.head()\n",
    "balt.shape\n",
    "\n",
    "print('\\nBoston')\n",
    "bos.head()\n",
    "bos.shape\n",
    "\n",
    "\n",
    "print('\\nNYC')\n",
    "nyc.head()\n",
    "nyc.shape\n",
    "\n",
    "print('\\nPhilly')\n",
    "phil.head()\n",
    "phil.shape"
   ]
  },
  {
   "cell_type": "markdown",
   "id": "6cfda42f",
   "metadata": {},
   "source": [
    "## Clean Your Data\n",
    "\n",
    "In the last lesson, we cleaned the data to related to San Francisco. Pull up your notebook from the last lesson and use your cleaning skills to clean the dataframes as necessary."
   ]
  },
  {
   "cell_type": "markdown",
   "id": "057d4461",
   "metadata": {},
   "source": [
    "## Check for Null Values"
   ]
  },
  {
   "cell_type": "code",
   "execution_count": 5,
   "id": "98abc290",
   "metadata": {},
   "outputs": [
    {
     "name": "stdout",
     "output_type": "stream",
     "text": [
      "\n",
      "Baltimore-null values in each column:\n",
      "\n",
      "Commodity Name - 0%\n",
      "City Name - 0%\n",
      "Type - 100%\n",
      "Package - 0%\n",
      "Variety - 1%\n",
      "Sub Variety - 84%\n",
      "Grade - 100%\n",
      "Date - 0%\n",
      "Low Price - 0%\n",
      "High Price - 0%\n",
      "Mostly Low - 0%\n",
      "Mostly High - 0%\n",
      "Origin - 3%\n",
      "Origin District - 100%\n",
      "Item Size - 16%\n",
      "Color - 80%\n",
      "Environment - 100%\n",
      "Unit of Sale - 84%\n",
      "Quality - 100%\n",
      "Condition - 100%\n",
      "Appearance - 100%\n",
      "Storage - 100%\n",
      "Crop - 100%\n",
      "Repack - 0%\n",
      "Trans Mode - 100%\n",
      "\n",
      "Baltimore-Columns with more than 50% missing data:\n"
     ]
    },
    {
     "data": {
      "text/plain": [
       "Type               100.000000\n",
       "Sub Variety         83.660131\n",
       "Grade              100.000000\n",
       "Origin District    100.000000\n",
       "Color               79.738562\n",
       "Environment        100.000000\n",
       "Unit of Sale        84.313725\n",
       "Quality            100.000000\n",
       "Condition          100.000000\n",
       "Appearance         100.000000\n",
       "Storage            100.000000\n",
       "Crop               100.000000\n",
       "Trans Mode         100.000000\n",
       "dtype: float64"
      ]
     },
     "execution_count": 5,
     "metadata": {},
     "output_type": "execute_result"
    }
   ],
   "source": [
    "# Clean your data here!\n",
    "#Baltimore\n",
    "\n",
    "print('\\nBaltimore-null values in each column:\\n')\n",
    "for col in balt.columns:\n",
    "    pct_missing = np.mean(balt[col].isnull()) #use numpy to find the mean of null values in each column\n",
    "    print('{} - {}%'.format(col, round(pct_missing*100)))\n",
    "\n",
    "    \n",
    "print('\\nBaltimore-Columns with more than 50% missing data:')\n",
    "\n",
    "balt_pct_missing = balt.isna().mean()\n",
    "balt_pct_missing[balt_pct_missing >=.5]*100\n",
    "    \n",
    "    \n"
   ]
  },
  {
   "cell_type": "code",
   "execution_count": 6,
   "id": "b7801739",
   "metadata": {},
   "outputs": [
    {
     "name": "stdout",
     "output_type": "stream",
     "text": [
      "\n",
      "Boston-null values in each column:\n",
      "\n",
      "Commodity Name - 0%\n",
      "City Name - 0%\n",
      "Type - 100%\n",
      "Package - 0%\n",
      "Variety - 0%\n",
      "Sub Variety - 92%\n",
      "Grade - 100%\n",
      "Date - 0%\n",
      "Low Price - 0%\n",
      "High Price - 0%\n",
      "Mostly Low - 0%\n",
      "Mostly High - 0%\n",
      "Origin - 0%\n",
      "Origin District - 81%\n",
      "Item Size - 1%\n",
      "Color - 14%\n",
      "Environment - 100%\n",
      "Unit of Sale - 87%\n",
      "Quality - 100%\n",
      "Condition - 100%\n",
      "Appearance - 100%\n",
      "Storage - 100%\n",
      "Crop - 100%\n",
      "Repack - 0%\n",
      "Trans Mode - 100%\n",
      "\n",
      "Boston-Columns with more than 50% missing data:\n"
     ]
    },
    {
     "data": {
      "text/plain": [
       "Type               100.000000\n",
       "Sub Variety         92.045455\n",
       "Grade              100.000000\n",
       "Origin District     81.250000\n",
       "Environment        100.000000\n",
       "Unit of Sale        86.931818\n",
       "Quality            100.000000\n",
       "Condition          100.000000\n",
       "Appearance         100.000000\n",
       "Storage            100.000000\n",
       "Crop               100.000000\n",
       "Trans Mode         100.000000\n",
       "dtype: float64"
      ]
     },
     "execution_count": 6,
     "metadata": {},
     "output_type": "execute_result"
    }
   ],
   "source": [
    "#Boston\n",
    "\n",
    "print('\\nBoston-null values in each column:\\n')\n",
    "for col in bos.columns:\n",
    "    pct_missing = np.mean(bos[col].isnull()) #use numpy to find the mean of null values in each column\n",
    "    print('{} - {}%'.format(col, round(pct_missing*100)))\n",
    "\n",
    "    \n",
    "print('\\nBoston-Columns with more than 50% missing data:')\n",
    "\n",
    "bos_pct_missing = bos.isna().mean()\n",
    "bos_pct_missing[bos_pct_missing >=.5]*100\n",
    "    "
   ]
  },
  {
   "cell_type": "code",
   "execution_count": 7,
   "id": "beb0a77e",
   "metadata": {},
   "outputs": [
    {
     "name": "stdout",
     "output_type": "stream",
     "text": [
      "\n",
      "NYC-null values in each column:\n",
      "\n",
      "Commodity Name - 0%\n",
      "City Name - 0%\n",
      "Type - 100%\n",
      "Package - 0%\n",
      "Variety - 0%\n",
      "Sub Variety - 84%\n",
      "Grade - 100%\n",
      "Date - 0%\n",
      "Low Price - 0%\n",
      "High Price - 0%\n",
      "Mostly Low - 0%\n",
      "Mostly High - 0%\n",
      "Origin - 0%\n",
      "Origin District - 87%\n",
      "Item Size - 7%\n",
      "Color - 81%\n",
      "Environment - 100%\n",
      "Unit of Sale - 78%\n",
      "Quality - 100%\n",
      "Condition - 100%\n",
      "Appearance - 100%\n",
      "Storage - 100%\n",
      "Crop - 100%\n",
      "Repack - 0%\n",
      "Trans Mode - 100%\n",
      "\n",
      "NYC-Columns with more than 50% missing data:\n"
     ]
    },
    {
     "data": {
      "text/plain": [
       "Type               100.000000\n",
       "Sub Variety         83.928571\n",
       "Grade              100.000000\n",
       "Origin District     86.607143\n",
       "Color               81.250000\n",
       "Environment        100.000000\n",
       "Unit of Sale        77.678571\n",
       "Quality            100.000000\n",
       "Condition          100.000000\n",
       "Appearance         100.000000\n",
       "Storage            100.000000\n",
       "Crop               100.000000\n",
       "Trans Mode         100.000000\n",
       "dtype: float64"
      ]
     },
     "execution_count": 7,
     "metadata": {},
     "output_type": "execute_result"
    }
   ],
   "source": [
    "#NYC\n",
    "\n",
    "print('\\nNYC-null values in each column:\\n')\n",
    "for col in nyc.columns:\n",
    "    pct_missing = np.mean(nyc[col].isnull()) #use numpy to find the mean of null values in each column\n",
    "    print('{} - {}%'.format(col, round(pct_missing*100)))\n",
    "\n",
    "    \n",
    "print('\\nNYC-Columns with more than 50% missing data:')\n",
    "\n",
    "nyc_pct_missing = nyc.isna().mean()\n",
    "nyc_pct_missing[nyc_pct_missing >=.5]*100\n",
    "    "
   ]
  },
  {
   "cell_type": "code",
   "execution_count": 8,
   "id": "6bf0fabe",
   "metadata": {},
   "outputs": [
    {
     "name": "stdout",
     "output_type": "stream",
     "text": [
      "\n",
      "Philly-null values in each column:\n",
      "\n",
      "Commodity Name - 0%\n",
      "City Name - 0%\n",
      "Type - 100%\n",
      "Package - 0%\n",
      "Variety - 0%\n",
      "Sub Variety - 79%\n",
      "Grade - 100%\n",
      "Date - 0%\n",
      "Low Price - 0%\n",
      "High Price - 0%\n",
      "Mostly Low - 0%\n",
      "Mostly High - 0%\n",
      "Origin - 0%\n",
      "Origin District - 100%\n",
      "Item Size - 21%\n",
      "Color - 100%\n",
      "Environment - 100%\n",
      "Unit of Sale - 81%\n",
      "Quality - 100%\n",
      "Condition - 100%\n",
      "Appearance - 100%\n",
      "Storage - 100%\n",
      "Crop - 100%\n",
      "Repack - 0%\n",
      "Trans Mode - 100%\n",
      "\n",
      "Philly-Columns with more than 50% missing data:\n"
     ]
    },
    {
     "data": {
      "text/plain": [
       "Type               100.000000\n",
       "Sub Variety         78.947368\n",
       "Grade              100.000000\n",
       "Origin District    100.000000\n",
       "Color              100.000000\n",
       "Environment        100.000000\n",
       "Unit of Sale        80.701754\n",
       "Quality            100.000000\n",
       "Condition          100.000000\n",
       "Appearance         100.000000\n",
       "Storage            100.000000\n",
       "Crop               100.000000\n",
       "Trans Mode         100.000000\n",
       "dtype: float64"
      ]
     },
     "execution_count": 8,
     "metadata": {},
     "output_type": "execute_result"
    }
   ],
   "source": [
    "#Philadelphia\n",
    "\n",
    "print('\\nPhilly-null values in each column:\\n')\n",
    "for col in phil.columns:\n",
    "    pct_missing = np.mean(phil[col].isnull()) #use numpy to find the mean of null values in each column\n",
    "    print('{} - {}%'.format(col, round(pct_missing*100)))\n",
    "\n",
    "    \n",
    "print('\\nPhilly-Columns with more than 50% missing data:')\n",
    "\n",
    "phil_pct_missing = phil.isna().mean()\n",
    "phil_pct_missing[phil_pct_missing >=.5]*100\n",
    "    "
   ]
  },
  {
   "cell_type": "markdown",
   "id": "e8769014",
   "metadata": {},
   "source": [
    "## Remove Columns with more than 50% missing values\n",
    "\n",
    "**Using the code BELOW, we first filter for the columns with less than or equal to 50% missing, then apply the copy method to make a copy to the new DataFrame--- df_less_missing_cols--- then we drop the columns with 50% or more of data missing.**\n",
    "\n",
    "\n",
    "\n"
   ]
  },
  {
   "cell_type": "code",
   "execution_count": 9,
   "id": "ea8b0c53",
   "metadata": {},
   "outputs": [],
   "source": [
    "balt_less_missing_cols =balt.drop(columns=balt_pct_missing[balt_pct_missing >=.5].index)\n",
    "\n",
    "bos_less_missing_cols =bos.drop(columns=bos_pct_missing[bos_pct_missing >=.5].index)\n",
    "\n",
    "nyc_less_missing_cols =nyc.drop(columns=nyc_pct_missing[nyc_pct_missing >=.5].index)\n",
    "\n",
    "phil_less_missing_cols =phil.drop(columns=phil_pct_missing[phil_pct_missing >=.5].index)\n",
    "\n"
   ]
  },
  {
   "cell_type": "code",
   "execution_count": 10,
   "id": "d5375c03",
   "metadata": {},
   "outputs": [
    {
     "name": "stdout",
     "output_type": "stream",
     "text": [
      "\n",
      " Baltimore\n",
      "<class 'pandas.core.frame.DataFrame'>\n",
      "RangeIndex: 153 entries, 0 to 152\n",
      "Data columns (total 12 columns):\n",
      " #   Column          Non-Null Count  Dtype  \n",
      "---  ------          --------------  -----  \n",
      " 0   Commodity Name  153 non-null    object \n",
      " 1   City Name       153 non-null    object \n",
      " 2   Package         153 non-null    object \n",
      " 3   Variety         151 non-null    object \n",
      " 4   Date            153 non-null    object \n",
      " 5   Low Price       153 non-null    int64  \n",
      " 6   High Price      153 non-null    float64\n",
      " 7   Mostly Low      153 non-null    int64  \n",
      " 8   Mostly High     153 non-null    float64\n",
      " 9   Origin          148 non-null    object \n",
      " 10  Item Size       128 non-null    object \n",
      " 11  Repack          153 non-null    object \n",
      "dtypes: float64(2), int64(2), object(8)\n",
      "memory usage: 14.5+ KB\n",
      "\n",
      "\n",
      "\n",
      " Boston\n",
      "<class 'pandas.core.frame.DataFrame'>\n",
      "RangeIndex: 352 entries, 0 to 351\n",
      "Data columns (total 12 columns):\n",
      " #   Column          Non-Null Count  Dtype \n",
      "---  ------          --------------  ----- \n",
      " 0   Commodity Name  352 non-null    object\n",
      " 1   City Name       352 non-null    object\n",
      " 2   Package         352 non-null    object\n",
      " 3   Variety         352 non-null    object\n",
      " 4   Date            352 non-null    object\n",
      " 5   Low Price       352 non-null    int64 \n",
      " 6   High Price      352 non-null    int64 \n",
      " 7   Mostly Low      352 non-null    int64 \n",
      " 8   Mostly High     352 non-null    int64 \n",
      " 9   Origin          352 non-null    object\n",
      " 10  Item Size       348 non-null    object\n",
      " 11  Repack          352 non-null    object\n",
      "dtypes: int64(4), object(8)\n",
      "memory usage: 33.1+ KB\n",
      "\n",
      "\n",
      "\n",
      " NYC\n",
      "<class 'pandas.core.frame.DataFrame'>\n",
      "RangeIndex: 112 entries, 0 to 111\n",
      "Data columns (total 12 columns):\n",
      " #   Column          Non-Null Count  Dtype \n",
      "---  ------          --------------  ----- \n",
      " 0   Commodity Name  112 non-null    object\n",
      " 1   City Name       112 non-null    object\n",
      " 2   Package         112 non-null    object\n",
      " 3   Variety         112 non-null    object\n",
      " 4   Date            112 non-null    object\n",
      " 5   Low Price       112 non-null    int64 \n",
      " 6   High Price      112 non-null    int64 \n",
      " 7   Mostly Low      112 non-null    int64 \n",
      " 8   Mostly High     112 non-null    int64 \n",
      " 9   Origin          112 non-null    object\n",
      " 10  Item Size       104 non-null    object\n",
      " 11  Repack          112 non-null    object\n",
      "dtypes: int64(4), object(8)\n",
      "memory usage: 10.6+ KB\n",
      "\n",
      "\n",
      "\n",
      " Philly\n",
      "<class 'pandas.core.frame.DataFrame'>\n",
      "RangeIndex: 57 entries, 0 to 56\n",
      "Data columns (total 12 columns):\n",
      " #   Column          Non-Null Count  Dtype \n",
      "---  ------          --------------  ----- \n",
      " 0   Commodity Name  57 non-null     object\n",
      " 1   City Name       57 non-null     object\n",
      " 2   Package         57 non-null     object\n",
      " 3   Variety         57 non-null     object\n",
      " 4   Date            57 non-null     object\n",
      " 5   Low Price       57 non-null     int64 \n",
      " 6   High Price      57 non-null     int64 \n",
      " 7   Mostly Low      57 non-null     int64 \n",
      " 8   Mostly High     57 non-null     int64 \n",
      " 9   Origin          57 non-null     object\n",
      " 10  Item Size       45 non-null     object\n",
      " 11  Repack          57 non-null     object\n",
      "dtypes: int64(4), object(8)\n",
      "memory usage: 5.5+ KB\n",
      "\n",
      "\n"
     ]
    }
   ],
   "source": [
    "print('\\n Baltimore')\n",
    "balt_less_missing_cols.info()\n",
    "print('\\n')\n",
    "\n",
    "#balt_less_missing_cols.head()\n",
    "print('\\n Boston')\n",
    "bos_less_missing_cols= bos_less_missing_cols.drop([\"Color\"], axis=1) #drop the color column from Boston. Only 14% data missing but col not necessary\n",
    "bos_less_missing_cols.info()\n",
    "print('\\n')\n",
    "\n",
    "print('\\n NYC')\n",
    "nyc_less_missing_cols.info()\n",
    "print('\\n')\n",
    "\n",
    "print('\\n Philly')\n",
    "phil_less_missing_cols.info()\n",
    "print('\\n')"
   ]
  },
  {
   "cell_type": "markdown",
   "id": "83ea0989",
   "metadata": {},
   "source": [
    "## Impute Missing Values within remaining columns"
   ]
  },
  {
   "cell_type": "code",
   "execution_count": 11,
   "id": "51141b4f",
   "metadata": {},
   "outputs": [
    {
     "name": "stdout",
     "output_type": "stream",
     "text": [
      "\n",
      "Baltimore Item size mode\n"
     ]
    },
    {
     "data": {
      "text/plain": [
       "0    sml\n",
       "dtype: object"
      ]
     },
     "execution_count": 11,
     "metadata": {},
     "output_type": "execute_result"
    },
    {
     "name": "stdout",
     "output_type": "stream",
     "text": [
      "<class 'pandas.core.frame.DataFrame'>\n",
      "RangeIndex: 153 entries, 0 to 152\n",
      "Data columns (total 12 columns):\n",
      " #   Column          Non-Null Count  Dtype  \n",
      "---  ------          --------------  -----  \n",
      " 0   Commodity Name  153 non-null    object \n",
      " 1   City Name       153 non-null    object \n",
      " 2   Package         153 non-null    object \n",
      " 3   Variety         153 non-null    object \n",
      " 4   Date            153 non-null    object \n",
      " 5   Low Price       153 non-null    int64  \n",
      " 6   High Price      153 non-null    float64\n",
      " 7   Mostly Low      153 non-null    int64  \n",
      " 8   Mostly High     153 non-null    float64\n",
      " 9   Origin          153 non-null    object \n",
      " 10  Item Size       153 non-null    object \n",
      " 11  Repack          153 non-null    object \n",
      "dtypes: float64(2), int64(2), object(8)\n",
      "memory usage: 14.5+ KB\n"
     ]
    }
   ],
   "source": [
    "#balt_less_missing_cols[['Origin', 'Variety']]=balt_less_missing_cols[['Origin', 'Variety']].fillna('Unknown')\n",
    "\n",
    "#replace missing values in three columns with three different values\n",
    "print('\\nBaltimore Item size mode')\n",
    "balt_less_missing_cols['Item Size'].mode() #Item size column mode\n",
    "\n",
    "balt_less_missing_cols.fillna({'Variety':'_Missing_', 'Origin':'Unknown', 'Item Size': 'sml'}, inplace=True)\n",
    "\n",
    "balt_less_missing_cols.info()\n",
    "\n",
    "#Fill 3 different columns with different values"
   ]
  },
  {
   "cell_type": "code",
   "execution_count": 12,
   "id": "f30d8526",
   "metadata": {},
   "outputs": [
    {
     "name": "stdout",
     "output_type": "stream",
     "text": [
      "Item Size modes for each data set\n",
      "\n",
      "\tBoston\n"
     ]
    },
    {
     "data": {
      "text/plain": [
       "0    sml\n",
       "dtype: object"
      ]
     },
     "execution_count": 12,
     "metadata": {},
     "output_type": "execute_result"
    },
    {
     "name": "stdout",
     "output_type": "stream",
     "text": [
      "\tNYC\n"
     ]
    },
    {
     "data": {
      "text/plain": [
       "0    lge\n",
       "dtype: object"
      ]
     },
     "execution_count": 12,
     "metadata": {},
     "output_type": "execute_result"
    },
    {
     "name": "stdout",
     "output_type": "stream",
     "text": [
      "\tPhilly\n"
     ]
    },
    {
     "data": {
      "text/plain": [
       "0    med\n",
       "dtype: object"
      ]
     },
     "execution_count": 12,
     "metadata": {},
     "output_type": "execute_result"
    },
    {
     "name": "stdout",
     "output_type": "stream",
     "text": [
      "\n",
      " filled missing item size data with modes\n",
      "\n",
      "\n",
      "<class 'pandas.core.frame.DataFrame'>\n",
      "RangeIndex: 352 entries, 0 to 351\n",
      "Data columns (total 12 columns):\n",
      " #   Column          Non-Null Count  Dtype \n",
      "---  ------          --------------  ----- \n",
      " 0   Commodity Name  352 non-null    object\n",
      " 1   City Name       352 non-null    object\n",
      " 2   Package         352 non-null    object\n",
      " 3   Variety         352 non-null    object\n",
      " 4   Date            352 non-null    object\n",
      " 5   Low Price       352 non-null    int64 \n",
      " 6   High Price      352 non-null    int64 \n",
      " 7   Mostly Low      352 non-null    int64 \n",
      " 8   Mostly High     352 non-null    int64 \n",
      " 9   Origin          352 non-null    object\n",
      " 10  Item Size       352 non-null    object\n",
      " 11  Repack          352 non-null    object\n",
      "dtypes: int64(4), object(8)\n",
      "memory usage: 33.1+ KB\n",
      "\n",
      "\n",
      "\n",
      " NYC\n",
      "<class 'pandas.core.frame.DataFrame'>\n",
      "RangeIndex: 112 entries, 0 to 111\n",
      "Data columns (total 12 columns):\n",
      " #   Column          Non-Null Count  Dtype \n",
      "---  ------          --------------  ----- \n",
      " 0   Commodity Name  112 non-null    object\n",
      " 1   City Name       112 non-null    object\n",
      " 2   Package         112 non-null    object\n",
      " 3   Variety         112 non-null    object\n",
      " 4   Date            112 non-null    object\n",
      " 5   Low Price       112 non-null    int64 \n",
      " 6   High Price      112 non-null    int64 \n",
      " 7   Mostly Low      112 non-null    int64 \n",
      " 8   Mostly High     112 non-null    int64 \n",
      " 9   Origin          112 non-null    object\n",
      " 10  Item Size       112 non-null    object\n",
      " 11  Repack          112 non-null    object\n",
      "dtypes: int64(4), object(8)\n",
      "memory usage: 10.6+ KB\n",
      "\n",
      "\n",
      "\n",
      " Philly\n",
      "<class 'pandas.core.frame.DataFrame'>\n",
      "RangeIndex: 57 entries, 0 to 56\n",
      "Data columns (total 12 columns):\n",
      " #   Column          Non-Null Count  Dtype \n",
      "---  ------          --------------  ----- \n",
      " 0   Commodity Name  57 non-null     object\n",
      " 1   City Name       57 non-null     object\n",
      " 2   Package         57 non-null     object\n",
      " 3   Variety         57 non-null     object\n",
      " 4   Date            57 non-null     object\n",
      " 5   Low Price       57 non-null     int64 \n",
      " 6   High Price      57 non-null     int64 \n",
      " 7   Mostly Low      57 non-null     int64 \n",
      " 8   Mostly High     57 non-null     int64 \n",
      " 9   Origin          57 non-null     object\n",
      " 10  Item Size       57 non-null     object\n",
      " 11  Repack          57 non-null     object\n",
      "dtypes: int64(4), object(8)\n",
      "memory usage: 5.5+ KB\n",
      "\n",
      "\n"
     ]
    }
   ],
   "source": [
    "#How to fill missing value with mode\n",
    "#df['salary'] = df['salary'].fillna(df['salary'].mode()[0])\n",
    "\n",
    "print('Item Size modes for each data set')\n",
    "\n",
    "print('\\n\\tBoston')\n",
    "bos_less_missing_cols['Item Size'].mode() \n",
    "\n",
    "print('\\tNYC')\n",
    "nyc_less_missing_cols['Item Size'].mode() \n",
    "\n",
    "print('\\tPhilly')\n",
    "phil_less_missing_cols['Item Size'].mode() \n",
    "\n",
    "print('\\n filled missing item size data with modes')\n",
    "\n",
    "bos_less_missing_cols['Item Size']=bos_less_missing_cols['Item Size'].fillna(bos_less_missing_cols['Item Size'].mode()[0])\n",
    "nyc_less_missing_cols['Item Size']=nyc_less_missing_cols['Item Size'].fillna(nyc_less_missing_cols['Item Size'].mode()[0])\n",
    "phil_less_missing_cols['Item Size']=phil_less_missing_cols['Item Size'].fillna(phil_less_missing_cols['Item Size'].mode()[0])\n",
    "\n",
    "\n",
    "\n",
    "print('\\n')\n",
    "bos_less_missing_cols.info()\n",
    "print('\\n')\n",
    "\n",
    "print('\\n NYC')\n",
    "nyc_less_missing_cols.info()\n",
    "print('\\n')\n",
    "\n",
    "print('\\n Philly')\n",
    "phil_less_missing_cols.info()\n",
    "print('\\n')\n",
    "\n"
   ]
  },
  {
   "cell_type": "markdown",
   "id": "0ebcaba3",
   "metadata": {},
   "source": [
    "## Replace Repack Column Values"
   ]
  },
  {
   "cell_type": "code",
   "execution_count": 13,
   "id": "75a4820f",
   "metadata": {},
   "outputs": [
    {
     "name": "stdout",
     "output_type": "stream",
     "text": [
      "\n",
      "Repack Values Replaced:\n"
     ]
    },
    {
     "data": {
      "text/plain": [
       "False    352\n",
       "Name: Repack, dtype: int64"
      ]
     },
     "execution_count": 13,
     "metadata": {},
     "output_type": "execute_result"
    },
    {
     "name": "stdout",
     "output_type": "stream",
     "text": [
      "\n",
      "\n"
     ]
    },
    {
     "data": {
      "text/plain": [
       "False    148\n",
       "True       5\n",
       "Name: Repack, dtype: int64"
      ]
     },
     "execution_count": 13,
     "metadata": {},
     "output_type": "execute_result"
    },
    {
     "name": "stdout",
     "output_type": "stream",
     "text": [
      "\n",
      "\n"
     ]
    },
    {
     "data": {
      "text/plain": [
       "False    112\n",
       "Name: Repack, dtype: int64"
      ]
     },
     "execution_count": 13,
     "metadata": {},
     "output_type": "execute_result"
    },
    {
     "name": "stdout",
     "output_type": "stream",
     "text": [
      "\n",
      "\n"
     ]
    },
    {
     "data": {
      "text/plain": [
       "False    57\n",
       "Name: Repack, dtype: int64"
      ]
     },
     "execution_count": 13,
     "metadata": {},
     "output_type": "execute_result"
    }
   ],
   "source": [
    "bos_less_missing_cols[\"Repack\"] = bos_less_missing_cols[\"Repack\"].replace({\"N\":False})\n",
    "balt_less_missing_cols[\"Repack\"] = balt_less_missing_cols[\"Repack\"].replace({\"N\":False, \"E\":True})\n",
    "nyc_less_missing_cols[\"Repack\"] = nyc_less_missing_cols[\"Repack\"].replace({\"N\":False})\n",
    "phil_less_missing_cols[\"Repack\"] = phil_less_missing_cols[\"Repack\"].replace({\"N\":False})\n",
    "\n",
    "print('\\nRepack Values Replaced:')\n",
    "\n",
    "bos_less_missing_cols['Repack'].value_counts()\n",
    "print('\\n')\n",
    "\n",
    "balt_less_missing_cols['Repack'].value_counts()\n",
    "\n",
    "\n",
    "print('\\n')\n",
    "nyc_less_missing_cols['Repack'].value_counts()\n",
    "\n",
    "\n",
    "print('\\n')\n",
    "phil_less_missing_cols['Repack'].value_counts()\n"
   ]
  },
  {
   "cell_type": "markdown",
   "id": "f9f07747",
   "metadata": {},
   "source": [
    "## Check for Duplicates:"
   ]
  },
  {
   "cell_type": "code",
   "execution_count": 14,
   "id": "79de94b9",
   "metadata": {},
   "outputs": [
    {
     "name": "stdout",
     "output_type": "stream",
     "text": [
      "Boston Duplicates\n"
     ]
    },
    {
     "data": {
      "text/plain": [
       "39"
      ]
     },
     "execution_count": 14,
     "metadata": {},
     "output_type": "execute_result"
    },
    {
     "name": "stdout",
     "output_type": "stream",
     "text": [
      "\n",
      "Baltimore Duplicates\n"
     ]
    },
    {
     "data": {
      "text/plain": [
       "8"
      ]
     },
     "execution_count": 14,
     "metadata": {},
     "output_type": "execute_result"
    },
    {
     "name": "stdout",
     "output_type": "stream",
     "text": [
      "\n",
      "NYC Duplicates\n"
     ]
    },
    {
     "data": {
      "text/plain": [
       "2"
      ]
     },
     "execution_count": 14,
     "metadata": {},
     "output_type": "execute_result"
    },
    {
     "name": "stdout",
     "output_type": "stream",
     "text": [
      "\n",
      "Philly Duplicates\n"
     ]
    },
    {
     "data": {
      "text/plain": [
       "0"
      ]
     },
     "execution_count": 14,
     "metadata": {},
     "output_type": "execute_result"
    }
   ],
   "source": [
    "#df[df.duplicated()]\n",
    "\n",
    "#bos_less_missing_cols[bos_less_missing_cols.duplicated()]\n",
    "\n",
    "#Count duplicate in a DataFrame\n",
    "print('Boston Duplicates')\n",
    "bos_less_missing_cols.duplicated().sum()\n",
    "\n",
    "print('\\nBaltimore Duplicates')\n",
    "balt_less_missing_cols.duplicated().sum()\n",
    "\n",
    "print('\\nNYC Duplicates')\n",
    "nyc_less_missing_cols.duplicated().sum()\n",
    "\n",
    "print('\\nPhilly Duplicates')\n",
    "phil_less_missing_cols.duplicated().sum()\n"
   ]
  },
  {
   "cell_type": "markdown",
   "id": "963058fa",
   "metadata": {},
   "source": [
    "## Make a copy of data sets and remove duplicated rows"
   ]
  },
  {
   "cell_type": "code",
   "execution_count": 15,
   "id": "dd41545b",
   "metadata": {},
   "outputs": [
    {
     "name": "stdout",
     "output_type": "stream",
     "text": [
      "Boston Duplicates removed\n"
     ]
    },
    {
     "data": {
      "text/plain": [
       "0"
      ]
     },
     "execution_count": 15,
     "metadata": {},
     "output_type": "execute_result"
    },
    {
     "name": "stdout",
     "output_type": "stream",
     "text": [
      "\n",
      "Baltimore Duplicates removed\n"
     ]
    },
    {
     "data": {
      "text/plain": [
       "0"
      ]
     },
     "execution_count": 15,
     "metadata": {},
     "output_type": "execute_result"
    },
    {
     "name": "stdout",
     "output_type": "stream",
     "text": [
      "\n",
      "Nyc Duplicates removed\n"
     ]
    },
    {
     "data": {
      "text/plain": [
       "0"
      ]
     },
     "execution_count": 15,
     "metadata": {},
     "output_type": "execute_result"
    },
    {
     "name": "stdout",
     "output_type": "stream",
     "text": [
      "\n",
      "Philly Duplicates removed\n"
     ]
    },
    {
     "data": {
      "text/plain": [
       "0"
      ]
     },
     "execution_count": 15,
     "metadata": {},
     "output_type": "execute_result"
    }
   ],
   "source": [
    "#Make a copy of data sets\n",
    "balt_copy= balt_less_missing_cols.copy()\n",
    "bos_copy= bos_less_missing_cols.copy()\n",
    "nyc_copy= nyc_less_missing_cols.copy()\n",
    "phil_copy= phil_less_missing_cols.copy()\n",
    "\n",
    "\n",
    "#Drop Duplicates\n",
    "bos_copy= bos_copy.drop_duplicates()\n",
    "balt_copy= balt_copy.drop_duplicates()\n",
    "nyc_copy= nyc_copy.drop_duplicates()\n",
    "phil_copy= phil_copy.drop_duplicates()\n",
    "\n",
    "#Check that Duplicates were dropped\n",
    "print('Boston Duplicates removed')\n",
    "bos_copy.duplicated().sum()\n",
    "\n",
    "print('\\nBaltimore Duplicates removed')\n",
    "balt_copy.duplicated().sum()\n",
    "\n",
    "print('\\nNyc Duplicates removed')\n",
    "nyc_copy.duplicated().sum()\n",
    "\n",
    "print('\\nPhilly Duplicates removed')\n",
    "phil_copy.duplicated().sum()"
   ]
  },
  {
   "cell_type": "markdown",
   "id": "117349a9",
   "metadata": {},
   "source": [
    "## Data Cleaned\n",
    "\n",
    "**Columns with large % of missing values dropped**\n",
    "\n",
    "**Null Values Imputed**\n",
    "\n",
    "**Repack column values replaced**\n",
    "\n",
    "**Duplicates Dropped**"
   ]
  },
  {
   "cell_type": "code",
   "execution_count": 16,
   "id": "e4052e23",
   "metadata": {},
   "outputs": [
    {
     "data": {
      "text/plain": [
       "(313, 12)"
      ]
     },
     "execution_count": 16,
     "metadata": {},
     "output_type": "execute_result"
    },
    {
     "data": {
      "text/plain": [
       "(145, 12)"
      ]
     },
     "execution_count": 16,
     "metadata": {},
     "output_type": "execute_result"
    },
    {
     "data": {
      "text/plain": [
       "(110, 12)"
      ]
     },
     "execution_count": 16,
     "metadata": {},
     "output_type": "execute_result"
    },
    {
     "data": {
      "text/plain": [
       "(57, 12)"
      ]
     },
     "execution_count": 16,
     "metadata": {},
     "output_type": "execute_result"
    }
   ],
   "source": [
    "bos_copy.shape\n",
    "balt_copy.shape\n",
    "nyc_copy.shape\n",
    "phil_copy.shape"
   ]
  },
  {
   "cell_type": "markdown",
   "id": "e70b01b9",
   "metadata": {},
   "source": [
    "## Combine Your Data\n",
    "\n",
    "Now that you have four clean sets of data, combine all four into one dataframe that represents the entire Northeast region."
   ]
  },
  {
   "cell_type": "code",
   "execution_count": 17,
   "id": "da059f8a",
   "metadata": {},
   "outputs": [],
   "source": [
    "# Combine the four dataframes into one!\n",
    "\n"
   ]
  },
  {
   "cell_type": "markdown",
   "id": "8590082f",
   "metadata": {},
   "source": [
    "## Answer Some Questions\n",
    "\n",
    "Use `groupby()` and `agg()` to answer the following two questions:\n",
    "\n",
    "1. What is the mean low and high prices for each type of unit of sale in the Northeast region? In the last lesson, we learned that a unit of sale could be something like a bin or individually. \n",
    "2. What is the average number of pumpkins for each variety that came into terminal markets for the year by region? Pumpkin varieties include Howden and Fairytale pumpkins."
   ]
  },
  {
   "cell_type": "code",
   "execution_count": 18,
   "id": "c839639a",
   "metadata": {},
   "outputs": [],
   "source": [
    "# Put your code here to find the mean low and high prices in the Northeast region for each type of unit of sale.\n"
   ]
  },
  {
   "cell_type": "code",
   "execution_count": 19,
   "id": "b4b23352",
   "metadata": {},
   "outputs": [],
   "source": [
    "# Put your code here to find the average number of pumpkins coming into terminal markets of each variety.\n"
   ]
  },
  {
   "cell_type": "markdown",
   "id": "a2e5cff4",
   "metadata": {},
   "source": [
    "## Bonus Mission\n",
    "\n",
    "Try answering the same questions for the Midwest (Chicago, Detroit, and St. Louis) or the Southeast (Atlanta, Columbia, and Miami) regions."
   ]
  },
  {
   "cell_type": "code",
   "execution_count": 20,
   "id": "1d22b7fd",
   "metadata": {},
   "outputs": [],
   "source": [
    "# Try the bonus mission if you have time!"
   ]
  },
  {
   "cell_type": "code",
   "execution_count": null,
   "id": "09dbc152",
   "metadata": {},
   "outputs": [],
   "source": []
  }
 ],
 "metadata": {
  "kernelspec": {
   "display_name": "Python 3 (ipykernel)",
   "language": "python",
   "name": "python3"
  },
  "language_info": {
   "codemirror_mode": {
    "name": "ipython",
    "version": 3
   },
   "file_extension": ".py",
   "mimetype": "text/x-python",
   "name": "python",
   "nbconvert_exporter": "python",
   "pygments_lexer": "ipython3",
   "version": "3.9.12"
  }
 },
 "nbformat": 4,
 "nbformat_minor": 5
}
